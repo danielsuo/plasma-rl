{
 "cells": [
  {
   "cell_type": "code",
   "execution_count": 6,
   "metadata": {},
   "outputs": [
    {
     "name": "stdout",
     "output_type": "stream",
     "text": [
      "The autoreload extension is already loaded. To reload it, use:\n",
      "  %reload_ext autoreload\n"
     ]
    }
   ],
   "source": [
    "%load_ext autoreload\n",
    "%autoreload 2\n",
    "\n",
    "import numpy as np\n",
    "from keras.models import load_model\n",
    "import plasmarl"
   ]
  },
  {
   "cell_type": "code",
   "execution_count": 7,
   "metadata": {},
   "outputs": [
    {
     "name": "stderr",
     "output_type": "stream",
     "text": [
      "/home/dsuo/miniconda3/lib/python3.7/site-packages/keras/layers/recurrent.py:2208: UserWarning: RNN dropout is no longer supported with the Theano backend due to technical limitations. You can either set `dropout` and `recurrent_dropout` to 0, or use the TensorFlow backend.\n",
      "  'RNN dropout is no longer supported with the Theano backend '\n",
      "/home/dsuo/miniconda3/lib/python3.7/site-packages/keras/engine/saving.py:341: UserWarning: No training configuration found in save file: the model was *not* compiled. Compile it manually.\n",
      "  warnings.warn('No training configuration found in save file: '\n"
     ]
    }
   ],
   "source": [
    "model = load_model(\"data/FRNN_sample_model.h5\")"
   ]
  },
  {
   "cell_type": "code",
   "execution_count": 8,
   "metadata": {},
   "outputs": [
    {
     "name": "stdout",
     "output_type": "stream",
     "text": [
      "Model: \"model_1\"\n",
      "__________________________________________________________________________________________________\n",
      "Layer (type)                    Output Shape         Param #     Connected to                     \n",
      "==================================================================================================\n",
      "input_1 (InputLayer)            (128, 200, 142)      0                                            \n",
      "__________________________________________________________________________________________________\n",
      "permute_1 (Permute)             (128, 142, 200)      0           input_1[0][0]                    \n",
      "__________________________________________________________________________________________________\n",
      "cropping1d_1 (Cropping1D)       (128, 128, 200)      0           permute_1[0][0]                  \n",
      "__________________________________________________________________________________________________\n",
      "permute_2 (Permute)             (128, 200, 128)      0           cropping1d_1[0][0]               \n",
      "__________________________________________________________________________________________________\n",
      "reshape_1 (Reshape)             (128, 200, 2, 64)    0           permute_2[0][0]                  \n",
      "__________________________________________________________________________________________________\n",
      "permute_4 (Permute)             (128, 200, 64, 2)    0           reshape_1[0][0]                  \n",
      "__________________________________________________________________________________________________\n",
      "time_distributed_1 (TimeDistrib (128, 200, 62, 5)    35          permute_4[0][0]                  \n",
      "__________________________________________________________________________________________________\n",
      "time_distributed_2 (TimeDistrib (128, 200, 31, 5)    0           time_distributed_1[0][0]         \n",
      "__________________________________________________________________________________________________\n",
      "time_distributed_3 (TimeDistrib (128, 200, 29, 5)    80          time_distributed_2[0][0]         \n",
      "__________________________________________________________________________________________________\n",
      "time_distributed_4 (TimeDistrib (128, 200, 14, 5)    0           time_distributed_3[0][0]         \n",
      "__________________________________________________________________________________________________\n",
      "time_distributed_5 (TimeDistrib (128, 200, 70)       0           time_distributed_4[0][0]         \n",
      "__________________________________________________________________________________________________\n",
      "time_distributed_6 (TimeDistrib (128, 200, 10)       710         time_distributed_5[0][0]         \n",
      "__________________________________________________________________________________________________\n",
      "time_distributed_7 (TimeDistrib (128, 200, 10)       0           time_distributed_6[0][0]         \n",
      "__________________________________________________________________________________________________\n",
      "cropping1d_2 (Cropping1D)       (128, 14, 200)       0           permute_1[0][0]                  \n",
      "__________________________________________________________________________________________________\n",
      "time_distributed_8 (TimeDistrib (128, 200, 2)        22          time_distributed_7[0][0]         \n",
      "__________________________________________________________________________________________________\n",
      "permute_3 (Permute)             (128, 200, 14)       0           cropping1d_2[0][0]               \n",
      "__________________________________________________________________________________________________\n",
      "time_distributed_9 (TimeDistrib (128, 200, 2)        0           time_distributed_8[0][0]         \n",
      "__________________________________________________________________________________________________\n",
      "concatenate_1 (Concatenate)     (128, 200, 16)       0           permute_3[0][0]                  \n",
      "                                                                 time_distributed_9[0][0]         \n",
      "__________________________________________________________________________________________________\n",
      "lstm_1 (LSTM)                   (128, 200, 20)       2960        concatenate_1[0][0]              \n",
      "__________________________________________________________________________________________________\n",
      "dropout_1 (Dropout)             (128, 200, 20)       0           lstm_1[0][0]                     \n",
      "__________________________________________________________________________________________________\n",
      "time_distributed_10 (TimeDistri (128, 200, 1)        21          dropout_1[0][0]                  \n",
      "==================================================================================================\n",
      "Total params: 3,828\n",
      "Trainable params: 3,828\n",
      "Non-trainable params: 0\n",
      "__________________________________________________________________________________________________\n"
     ]
    }
   ],
   "source": [
    "model.summary()"
   ]
  },
  {
   "cell_type": "code",
   "execution_count": 9,
   "metadata": {},
   "outputs": [
    {
     "name": "stdout",
     "output_type": "stream",
     "text": [
      "shot_number,X.shape,is_disruptive,disruption_time\n",
      "148778 (6100, 142) False -1\n",
      "154077 (2319, 142) True 2288\n",
      "155579 (6040, 142) False -1\n",
      "160588 (6037, 142) True 6006\n",
      "159593 (3919, 142) True 3888\n",
      "160594 (5769, 142) True 5738\n",
      "165441 (5400, 142) False -1\n",
      "165483 (6020, 142) False -1\n",
      "171125 (6241, 142) False -1\n",
      "180669 (6841, 142) False -1\n"
     ]
    }
   ],
   "source": [
    "p = plasmarl.PlasmaProblem()\n",
    "p.initialize(path=\"data/shot_data.npz\", shot_number=154077)"
   ]
  },
  {
   "cell_type": "code",
   "execution_count": 10,
   "metadata": {},
   "outputs": [],
   "source": [
    "m = plasmarl.FRNNMethod()"
   ]
  },
  {
   "cell_type": "code",
   "execution_count": null,
   "metadata": {},
   "outputs": [],
   "source": []
  }
 ],
 "metadata": {
  "kernelspec": {
   "display_name": "Python 3",
   "language": "python",
   "name": "python3"
  },
  "language_info": {
   "codemirror_mode": {
    "name": "ipython",
    "version": 3
   },
   "file_extension": ".py",
   "mimetype": "text/x-python",
   "name": "python",
   "nbconvert_exporter": "python",
   "pygments_lexer": "ipython3",
   "version": "3.7.3"
  }
 },
 "nbformat": 4,
 "nbformat_minor": 2
}
